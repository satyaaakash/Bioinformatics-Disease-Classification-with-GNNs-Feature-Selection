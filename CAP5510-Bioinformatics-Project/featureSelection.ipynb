{
 "cells": [
  {
   "cell_type": "code",
   "execution_count": 1,
   "id": "d6c4969b-59d6-4d38-8f52-031b5f907bd7",
   "metadata": {},
   "outputs": [],
   "source": [
    "import pandas as pd\n",
    "import numpy as np\n",
    "from sklearn.feature_selection import SelectKBest, f_classif, chi2\n",
    "from sklearn.preprocessing import StandardScaler"
   ]
  },
  {
   "cell_type": "code",
   "execution_count": 2,
   "id": "d1d9246c-7e1b-4d78-a91c-5465a5acf81e",
   "metadata": {},
   "outputs": [],
   "source": [
    "def standard_deviation_by_mean_ratio(df, k):\n",
    "    \"\"\"\n",
    "    Select top k features based on the ratio of standard deviation to mean.\n",
    "    \"\"\"\n",
    "    # Calculate the ratio for each feature\n",
    "    feature_scores = (df.std() / df.mean()).abs()\n",
    "    top_features = feature_scores.nlargest(k).index\n",
    "    return df[top_features]"
   ]
  },
  {
   "cell_type": "code",
   "execution_count": 3,
   "id": "0d46aad0-64bd-40c7-b37b-bce5e7b6494a",
   "metadata": {},
   "outputs": [],
   "source": [
    "def anova_f_value(X, y, k):\n",
    "    \"\"\"\n",
    "    Select top k features based on ANOVA F-value.\n",
    "    \"\"\"\n",
    "    selector = SelectKBest(score_func=f_classif, k=k)\n",
    "    X_new = selector.fit_transform(X, y)\n",
    "    top_features = X.columns[selector.get_support()]\n",
    "    return pd.DataFrame(X_new, columns=top_features)"
   ]
  },
  {
   "cell_type": "code",
   "execution_count": 4,
   "id": "94a882c3-62ba-45a4-b500-bb261f9a8c2c",
   "metadata": {},
   "outputs": [],
   "source": [
    "def chi_square_statistics(X, y, k):\n",
    "    \"\"\"\n",
    "    Select top k features based on Chi-Square statistics.\n",
    "    \"\"\"\n",
    "    # Chi-Square requires non-negative values, scale if necessary\n",
    "    X_scaled = StandardScaler().fit_transform(X)\n",
    "    X_scaled = np.abs(X_scaled)  # Ensure all values are non-negative\n",
    "    selector = SelectKBest(score_func=chi2, k=k)\n",
    "    X_new = selector.fit_transform(X_scaled, y)\n",
    "    top_features = X.columns[selector.get_support()]\n",
    "    return pd.DataFrame(X_new, columns=top_features)"
   ]
  },
  {
   "cell_type": "code",
   "execution_count": 4,
   "id": "1da6117f-0128-428f-9554-2decc8d8f13e",
   "metadata": {},
   "outputs": [],
   "source": [
    "def chi_square_statistics(X, y, k):\n",
    "    \"\"\"\n",
    "    Select top k features based on Chi-Square statistics.\n",
    "    \"\"\"\n",
    "    # Chi-Square requires non-negative values, scale if necessary\n",
    "    X_scaled = StandardScaler().fit_transform(X)\n",
    "    X_scaled = np.abs(X_scaled)  # Ensure all values are non-negative\n",
    "    selector = SelectKBest(score_func=chi2, k=k)\n",
    "    X_new = selector.fit_transform(X_scaled, y)\n",
    "    top_features = X.columns[selector.get_support()]\n",
    "    return pd.DataFrame(X_new, columns=top_features)"
   ]
  },
  {
   "cell_type": "code",
   "execution_count": 11,
   "id": "729a8c8c-31c8-4e35-bb39-5c68a48b2ea3",
   "metadata": {},
   "outputs": [],
   "source": [
    "def feature_selection_pipeline(file_path, target_column, k):\n",
    "    \"\"\"\n",
    "    Perform feature selection on the given dataset using three methods.\n",
    "    - file_path: Path to the filtered dataset.\n",
    "    - target_column: Name of the target column.\n",
    "    - k: Number of features to select.\n",
    "    \"\"\"\n",
    "    # Load dataset\n",
    "    data = pd.read_csv(file_path)\n",
    "\n",
    "    # Separate features (X) and target (y)\n",
    "    X = data.drop(columns=[data.columns[0], target_column])  # Exclude Sample IDs and target column\n",
    "    y = data[target_column]\n",
    "\n",
    "    # Standard Deviation by Mean Ratio\n",
    "    print(\"Performing Standard Deviation by Mean Ratio...\")\n",
    "    std_mean_selected = standard_deviation_by_mean_ratio(X, k)\n",
    "    std_mean_selected[target_column] = y  # Add the target column back\n",
    "    std_mean_file = file_path.replace(\".csv\", \"_std_mean_selected.csv\")\n",
    "    std_mean_selected.to_csv(std_mean_file, index=False)\n",
    "    print(f\"Standard Deviation by Mean Ratio results saved to {std_mean_file}\")\n",
    "    \n",
    "    # ANOVA F-Value\n",
    "    print(\"Performing ANOVA F-Value Selection...\")\n",
    "    anova_selected = anova_f_value(X, y, k)\n",
    "    anova_selected[target_column] = y  # Add the target column back\n",
    "    anova_file = file_path.replace(\".csv\", \"_anova_selected.csv\")\n",
    "    anova_selected.to_csv(anova_file, index=False)\n",
    "    print(f\"ANOVA F-Value results saved to {anova_file}\")\n",
    "    \n",
    "    # Chi-Square Statistics\n",
    "    print(\"Performing Chi-Square Statistics Selection...\")\n",
    "    chi2_selected = chi_square_statistics(X, y, k)\n",
    "    chi2_selected[target_column] = y  # Add the target column back\n",
    "    chi2_file = file_path.replace(\".csv\", \"_chi2_selected.csv\")\n",
    "    chi2_selected.to_csv(chi2_file, index=False)\n",
    "    print(f\"Chi-Square Statistics results saved to {chi2_file}\")\n",
    "\n",
    "    print(\"Feature selection completed for all methods.\")"
   ]
  },
  {
   "cell_type": "code",
   "execution_count": 13,
   "id": "0fd1c973-58f5-4a81-99d0-0c814e846a3c",
   "metadata": {},
   "outputs": [
    {
     "name": "stdout",
     "output_type": "stream",
     "text": [
      "Processing preprocessed/filtered_preprocessed_GSE27562.csv for feature selection...\n",
      "Performing Standard Deviation by Mean Ratio...\n",
      "Standard Deviation by Mean Ratio results saved to preprocessed/filtered_preprocessed_GSE27562_std_mean_selected.csv\n",
      "Performing ANOVA F-Value Selection...\n"
     ]
    },
    {
     "name": "stderr",
     "output_type": "stream",
     "text": [
      "C:\\Users\\saiaa\\AppData\\Local\\Temp\\ipykernel_25112\\1671460126.py:18: SettingWithCopyWarning: \n",
      "A value is trying to be set on a copy of a slice from a DataFrame.\n",
      "Try using .loc[row_indexer,col_indexer] = value instead\n",
      "\n",
      "See the caveats in the documentation: https://pandas.pydata.org/pandas-docs/stable/user_guide/indexing.html#returning-a-view-versus-a-copy\n",
      "  std_mean_selected[target_column] = y  # Add the target column back\n"
     ]
    },
    {
     "name": "stdout",
     "output_type": "stream",
     "text": [
      "ANOVA F-Value results saved to preprocessed/filtered_preprocessed_GSE27562_anova_selected.csv\n",
      "Performing Chi-Square Statistics Selection...\n",
      "Chi-Square Statistics results saved to preprocessed/filtered_preprocessed_GSE27562_chi2_selected.csv\n",
      "Feature selection completed for all methods.\n",
      "Processing preprocessed/filtered_preprocessed_GSE19804.csv for feature selection...\n",
      "Performing Standard Deviation by Mean Ratio...\n",
      "Standard Deviation by Mean Ratio results saved to preprocessed/filtered_preprocessed_GSE19804_std_mean_selected.csv\n",
      "Performing ANOVA F-Value Selection...\n"
     ]
    },
    {
     "name": "stderr",
     "output_type": "stream",
     "text": [
      "C:\\Users\\saiaa\\AppData\\Local\\Temp\\ipykernel_25112\\1671460126.py:18: SettingWithCopyWarning: \n",
      "A value is trying to be set on a copy of a slice from a DataFrame.\n",
      "Try using .loc[row_indexer,col_indexer] = value instead\n",
      "\n",
      "See the caveats in the documentation: https://pandas.pydata.org/pandas-docs/stable/user_guide/indexing.html#returning-a-view-versus-a-copy\n",
      "  std_mean_selected[target_column] = y  # Add the target column back\n"
     ]
    },
    {
     "name": "stdout",
     "output_type": "stream",
     "text": [
      "ANOVA F-Value results saved to preprocessed/filtered_preprocessed_GSE19804_anova_selected.csv\n",
      "Performing Chi-Square Statistics Selection...\n",
      "Chi-Square Statistics results saved to preprocessed/filtered_preprocessed_GSE19804_chi2_selected.csv\n",
      "Feature selection completed for all methods.\n",
      "Processing preprocessed/filtered_preprocessed_GSE4290.csv for feature selection...\n",
      "Performing Standard Deviation by Mean Ratio...\n",
      "Standard Deviation by Mean Ratio results saved to preprocessed/filtered_preprocessed_GSE4290_std_mean_selected.csv\n",
      "Performing ANOVA F-Value Selection...\n"
     ]
    },
    {
     "name": "stderr",
     "output_type": "stream",
     "text": [
      "C:\\Users\\saiaa\\AppData\\Local\\Temp\\ipykernel_25112\\1671460126.py:18: SettingWithCopyWarning: \n",
      "A value is trying to be set on a copy of a slice from a DataFrame.\n",
      "Try using .loc[row_indexer,col_indexer] = value instead\n",
      "\n",
      "See the caveats in the documentation: https://pandas.pydata.org/pandas-docs/stable/user_guide/indexing.html#returning-a-view-versus-a-copy\n",
      "  std_mean_selected[target_column] = y  # Add the target column back\n"
     ]
    },
    {
     "name": "stdout",
     "output_type": "stream",
     "text": [
      "ANOVA F-Value results saved to preprocessed/filtered_preprocessed_GSE4290_anova_selected.csv\n",
      "Performing Chi-Square Statistics Selection...\n",
      "Chi-Square Statistics results saved to preprocessed/filtered_preprocessed_GSE4290_chi2_selected.csv\n",
      "Feature selection completed for all methods.\n",
      "Processing preprocessed/filtered_preprocessed_GSE59856.csv for feature selection...\n",
      "Performing Standard Deviation by Mean Ratio...\n",
      "Standard Deviation by Mean Ratio results saved to preprocessed/filtered_preprocessed_GSE59856_std_mean_selected.csv\n",
      "Performing ANOVA F-Value Selection...\n",
      "ANOVA F-Value results saved to preprocessed/filtered_preprocessed_GSE59856_anova_selected.csv\n",
      "Performing Chi-Square Statistics Selection...\n"
     ]
    },
    {
     "name": "stderr",
     "output_type": "stream",
     "text": [
      "C:\\Users\\saiaa\\AppData\\Local\\Temp\\ipykernel_25112\\1671460126.py:18: SettingWithCopyWarning: \n",
      "A value is trying to be set on a copy of a slice from a DataFrame.\n",
      "Try using .loc[row_indexer,col_indexer] = value instead\n",
      "\n",
      "See the caveats in the documentation: https://pandas.pydata.org/pandas-docs/stable/user_guide/indexing.html#returning-a-view-versus-a-copy\n",
      "  std_mean_selected[target_column] = y  # Add the target column back\n",
      "C:\\Users\\saiaa\\anaconda3\\Lib\\site-packages\\sklearn\\feature_selection\\_univariate_selection.py:112: UserWarning: Features [1402] are constant.\n",
      "  warnings.warn(\"Features %s are constant.\" % constant_features_idx, UserWarning)\n",
      "C:\\Users\\saiaa\\anaconda3\\Lib\\site-packages\\sklearn\\feature_selection\\_univariate_selection.py:113: RuntimeWarning: invalid value encountered in divide\n",
      "  f = msb / msw\n"
     ]
    },
    {
     "name": "stdout",
     "output_type": "stream",
     "text": [
      "Chi-Square Statistics results saved to preprocessed/filtered_preprocessed_GSE59856_chi2_selected.csv\n",
      "Feature selection completed for all methods.\n",
      "Processing preprocessed/filtered_preprocessed_GSE33315.csv for feature selection...\n",
      "Performing Standard Deviation by Mean Ratio...\n",
      "Standard Deviation by Mean Ratio results saved to preprocessed/filtered_preprocessed_GSE33315_std_mean_selected.csv\n",
      "Performing ANOVA F-Value Selection...\n"
     ]
    },
    {
     "name": "stderr",
     "output_type": "stream",
     "text": [
      "C:\\Users\\saiaa\\AppData\\Local\\Temp\\ipykernel_25112\\1671460126.py:18: SettingWithCopyWarning: \n",
      "A value is trying to be set on a copy of a slice from a DataFrame.\n",
      "Try using .loc[row_indexer,col_indexer] = value instead\n",
      "\n",
      "See the caveats in the documentation: https://pandas.pydata.org/pandas-docs/stable/user_guide/indexing.html#returning-a-view-versus-a-copy\n",
      "  std_mean_selected[target_column] = y  # Add the target column back\n"
     ]
    },
    {
     "name": "stdout",
     "output_type": "stream",
     "text": [
      "ANOVA F-Value results saved to preprocessed/filtered_preprocessed_GSE33315_anova_selected.csv\n",
      "Performing Chi-Square Statistics Selection...\n",
      "Chi-Square Statistics results saved to preprocessed/filtered_preprocessed_GSE33315_chi2_selected.csv\n",
      "Feature selection completed for all methods.\n"
     ]
    }
   ],
   "source": [
    "# Example usage\n",
    "if __name__ == \"__main__\":\n",
    "    # Preprocessed datasets\n",
    "    file_paths = [\n",
    "        \"preprocessed/filtered_preprocessed_GSE27562.csv\",\n",
    "        \"preprocessed/filtered_preprocessed_GSE19804.csv\",\n",
    "        \"preprocessed/filtered_preprocessed_GSE4290.csv\",\n",
    "        \"preprocessed/filtered_preprocessed_GSE59856.csv\",\n",
    "        \"preprocessed/filtered_preprocessed_GSE33315.csv\"\n",
    "    ]\n",
    "    target_column = \"Target\"  # Replace with the actual target column name\n",
    "    k = 100  # Number of features to select\n",
    "\n",
    "    for file_path in file_paths:\n",
    "        print(f\"Processing {file_path} for feature selection...\")\n",
    "        feature_selection_pipeline(file_path, target_column, k)"
   ]
  },
  {
   "cell_type": "code",
   "execution_count": null,
   "id": "db4663ec-c007-4b4f-8a16-765e34a08e07",
   "metadata": {},
   "outputs": [],
   "source": []
  },
  {
   "cell_type": "code",
   "execution_count": null,
   "id": "4892670f-288b-46ad-950e-d37230684781",
   "metadata": {},
   "outputs": [],
   "source": []
  }
 ],
 "metadata": {
  "kernelspec": {
   "display_name": "Python 3 (ipykernel)",
   "language": "python",
   "name": "python3"
  },
  "language_info": {
   "codemirror_mode": {
    "name": "ipython",
    "version": 3
   },
   "file_extension": ".py",
   "mimetype": "text/x-python",
   "name": "python",
   "nbconvert_exporter": "python",
   "pygments_lexer": "ipython3",
   "version": "3.11.7"
  }
 },
 "nbformat": 4,
 "nbformat_minor": 5
}
